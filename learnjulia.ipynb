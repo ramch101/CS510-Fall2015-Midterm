{
 "cells": [
  {
   "cell_type": "markdown",
   "metadata": {
    "collapsed": false
   },
   "source": [
    "LeanJulia -Caleb & Sunil\n"
   ]
  },
  {
   "cell_type": "code",
   "execution_count": 9,
   "metadata": {
    "collapsed": false
   },
   "outputs": [
    {
     "name": "stdout",
     "output_type": "stream",
     "text": [
      "10"
     ]
    }
   ],
   "source": [
    "# This is comment\n",
    "var=10\n",
    "print(var)"
   ]
  },
  {
   "cell_type": "code",
   "execution_count": 10,
   "metadata": {
    "collapsed": false
   },
   "outputs": [
    {
     "data": {
      "text/plain": [
       "1.0"
      ]
     },
     "execution_count": 10,
     "metadata": {},
     "output_type": "execute_result"
    }
   ],
   "source": [
    "# some example of datatypes in julia\n",
    "str_var =\"This is a string\"\n",
    "boolean_var = true\n",
    "int_var = 1.0"
   ]
  },
  {
   "cell_type": "code",
   "execution_count": 11,
   "metadata": {
    "collapsed": false
   },
   "outputs": [
    {
     "name": "stdout",
     "output_type": "stream",
     "text": [
      "The value of number variable is 10 \n",
      "1 is a mammal\n",
      "cat is a mammal\n",
      "mouse is a mammal\n",
      "0\n",
      "1\n",
      "2\n",
      "3\n",
      "4\n"
     ]
    }
   ],
   "source": [
    "# Examples of conditional constructs in julia\n",
    "var_number = 10\n",
    "if var_number < 10\n",
    "    println(\"The value of number variable is less than 10\")\n",
    "elseif var_number > 10\n",
    "    println(\"The value of number variable is greater than equal to 10\")\n",
    "else\n",
    "    println(\"The value of number variable is 10 \")\n",
    "end\n",
    "#------------------------------------------------------------------------\n",
    "for animal in [1, \"cat\", \"mouse\"]\n",
    "    println(\"$animal is a mammal\")\n",
    "end\n",
    "#------------------------------------------------------------------------\n",
    "x = 0\n",
    "while x <= 4\n",
    "    println(x)\n",
    "    x += 1  # Shorthand for x = x + 1\n",
    "end\n",
    "#------------------------------------------------------------------------\n"
   ]
  },
  {
   "cell_type": "markdown",
   "metadata": {},
   "source": [
    "# The main differences between python and julia are\n",
    "    ## Julia is more functional oriented and does not require to explicitly define variable data types\n",
    "    ## In Python we need to formal define class and methods for inheritance\n",
    "    ## In python the code is very sensitive to indentation\n",
    "    ## Julia is more like C as a structured language e.g requires end for functions and conditional statements\n"
   ]
  },
  {
   "cell_type": "code",
   "execution_count": 12,
   "metadata": {
    "collapsed": false
   },
   "outputs": [
    {
     "data": {
      "text/plain": [
       "generate_fibonacci (generic function with 1 method)"
      ]
     },
     "execution_count": 12,
     "metadata": {},
     "output_type": "execute_result"
    }
   ],
   "source": [
    "function generate_fibonacci(first_term, second_term, number_of_terms)\n",
    "    println(\"The list of Fibonacci numbers are\")\n",
    "    println(first_term)\n",
    "    println(second_term)\n",
    "    counter=2\n",
    "    while counter < number_of_terms\n",
    "        next_term = first_term + second_term;\n",
    "        println(next_term)\n",
    "        first_term = second_term;\n",
    "        second_term = next_term;\n",
    "        counter += 1\n",
    "    end\n",
    "end   \n"
   ]
  },
  {
   "cell_type": "code",
   "execution_count": 14,
   "metadata": {
    "collapsed": false
   },
   "outputs": [
    {
     "name": "stdout",
     "output_type": "stream",
     "text": [
      "The list of Fibonacci numbers are\n",
      "0\n",
      "1\n",
      "1\n",
      "2\n",
      "3\n",
      "5\n",
      "8\n",
      "13\n",
      "21\n",
      "34\n",
      "55\n",
      "89\n",
      "144\n",
      "233\n",
      "377\n",
      "610\n",
      "987\n",
      "1597\n",
      "2584\n",
      "4181\n",
      "6765\n",
      "10946\n",
      "17711\n",
      "28657\n",
      "46368\n",
      "75025\n",
      "121393\n",
      "196418\n",
      "317811\n",
      "514229\n",
      "832040\n",
      "1346269\n",
      "2178309\n",
      "3524578\n",
      "5702887\n",
      "9227465\n",
      "14930352\n",
      "24157817\n",
      "39088169\n",
      "63245986\n",
      "102334155\n",
      "165580141\n",
      "267914296\n",
      "433494437\n",
      "701408733\n",
      "1134903170\n",
      "1836311903\n",
      "2971215073\n",
      "4807526976\n",
      "7778742049\n",
      "12586269025\n",
      "20365011074\n",
      "32951280099\n",
      "53316291173\n",
      "86267571272\n",
      "139583862445\n",
      "225851433717\n",
      "365435296162\n",
      "591286729879\n",
      "956722026041\n",
      "1548008755920\n",
      "2504730781961\n",
      "4052739537881\n",
      "6557470319842\n",
      "10610209857723\n",
      "17167680177565\n",
      "27777890035288\n",
      "44945570212853\n",
      "72723460248141\n",
      "117669030460994\n",
      "190392490709135\n",
      "308061521170129\n",
      "498454011879264\n",
      "806515533049393\n",
      "1304969544928657\n",
      "2111485077978050\n",
      "3416454622906707\n",
      "5527939700884757\n",
      "8944394323791464\n",
      "14472334024676221\n",
      "23416728348467685\n",
      "37889062373143906\n",
      "61305790721611591\n",
      "99194853094755497\n",
      "160500643816367088\n",
      "259695496911122585\n",
      "420196140727489673\n",
      "679891637638612258\n",
      "1100087778366101931\n",
      "1779979416004714189\n",
      "2880067194370816120\n",
      "4660046610375530309\n",
      "7540113804746346429\n",
      "-6246583658587674878\n",
      "1293530146158671551\n",
      "-4953053512429003327\n",
      "-3659523366270331776\n",
      "-8612576878699335103\n",
      "6174643828739884737\n",
      "-2437933049959450366\n"
     ]
    }
   ],
   "source": [
    "generate_fibonacci(0,1,100)"
   ]
  },
  {
   "cell_type": "code",
   "execution_count": null,
   "metadata": {
    "collapsed": true
   },
   "outputs": [],
   "source": []
  }
 ],
 "metadata": {
  "kernelspec": {
   "display_name": "Julia",
   "language": "julia",
   "name": "julia-0.4"
  },
  "language_info": {
   "file_extension": ".jl",
   "mimetype": "application/julia",
   "name": "julia",
   "version": "0.4.0"
  },
  "name": "learnjulia.ipynb"
 },
 "nbformat": 4,
 "nbformat_minor": 0
}
